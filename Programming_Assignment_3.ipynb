{
 "cells": [
  {
   "cell_type": "markdown",
   "id": "53fce458-ba3f-48f3-bb8e-73123316ef54",
   "metadata": {},
   "source": [
    "**Name:** Maria Master\n",
    "\n",
    "**Class:** INST 447 Spring 2024"
   ]
  },
  {
   "cell_type": "markdown",
   "id": "9ded67b8-5108-46f3-9e7c-7c34148fcd2c",
   "metadata": {},
   "source": [
    "# Programming Assignment 3"
   ]
  },
  {
   "cell_type": "markdown",
   "id": "e9d45efa-2ecf-4b91-8516-28f9b0182172",
   "metadata": {},
   "source": [
    "### Research Question\n",
    "\n",
    "Which data science tool is more popular in the data science/statistics community pandas or R?"
   ]
  },
  {
   "cell_type": "markdown",
   "id": "58889c05-fc6a-4a4a-9a01-8c6a02fa2e22",
   "metadata": {},
   "source": [
    "### Fetch API Data"
   ]
  },
  {
   "cell_type": "code",
   "execution_count": 1,
   "id": "1217187d-c0f6-430d-8fb1-62b50953324a",
   "metadata": {},
   "outputs": [],
   "source": [
    "import requests\n",
    "import json\n",
    "import pandas as pd\n",
    "import seaborn as sns\n",
    "import matplotlib.pyplot as plt\n",
    "import statsmodels.api as sm"
   ]
  },
  {
   "cell_type": "code",
   "execution_count": 2,
   "id": "c342b52e-ed29-4101-a3cc-60bf124cc109",
   "metadata": {},
   "outputs": [
    {
     "data": {
      "text/plain": [
       "200"
      ]
     },
     "execution_count": 2,
     "metadata": {},
     "output_type": "execute_result"
    }
   ],
   "source": [
    "base_url = \"https://api.stackexchange.com/2.3/tags\"\n",
    "params = {\"site\": \"stackoverflow\", \"tagged\": \"pandas\", \"tagged\": \"r\"} \n",
    "response = requests.get(base_url, params=params)\n",
    "response.status_code"
   ]
  },
  {
   "cell_type": "code",
   "execution_count": 3,
   "id": "164fa06f-09bb-4b3d-b5a5-8a86ad724aa6",
   "metadata": {},
   "outputs": [
    {
     "data": {
      "text/plain": [
       "{'items': [{'has_synonyms': True,\n",
       "   'is_moderator_only': False,\n",
       "   'is_required': False,\n",
       "   'count': 2530229,\n",
       "   'name': 'javascript'},\n",
       "  {'has_synonyms': True,\n",
       "   'is_moderator_only': False,\n",
       "   'is_required': False,\n",
       "   'count': 2196129,\n",
       "   'name': 'python'},\n",
       "  {'has_synonyms': True,\n",
       "   'is_moderator_only': False,\n",
       "   'is_required': False,\n",
       "   'count': 1918462,\n",
       "   'name': 'java'},\n",
       "  {'has_synonyms': True,\n",
       "   'is_moderator_only': False,\n",
       "   'is_required': False,\n",
       "   'count': 1616648,\n",
       "   'name': 'c#'},\n",
       "  {'collectives': [{'tags': ['php'],\n",
       "     'external_links': [{'type': 'support',\n",
       "       'link': 'https://stackoverflow.com/contact?topic=15'}],\n",
       "     'description': 'A collective where developers working with PHP can learn and connect about the open source scripting language.',\n",
       "     'link': '/collectives/php',\n",
       "     'name': 'PHP',\n",
       "     'slug': 'php'}],\n",
       "   'has_synonyms': True,\n",
       "   'is_moderator_only': False,\n",
       "   'is_required': False,\n",
       "   'count': 1465178,\n",
       "   'name': 'php'},\n",
       "  {'collectives': [{'tags': ['ios', 'android'],\n",
       "     'external_links': [{'type': 'support',\n",
       "       'link': 'https://stackoverflow.com/contact?topic=15'}],\n",
       "     'description': 'A collective for developers who want to share their knowledge and learn more about mobile development practices and platforms',\n",
       "     'link': '/collectives/mobile-dev',\n",
       "     'name': 'Mobile Development',\n",
       "     'slug': 'mobile-dev'}],\n",
       "   'has_synonyms': True,\n",
       "   'is_moderator_only': False,\n",
       "   'is_required': False,\n",
       "   'count': 1417804,\n",
       "   'name': 'android'},\n",
       "  {'has_synonyms': True,\n",
       "   'is_moderator_only': False,\n",
       "   'is_required': False,\n",
       "   'count': 1188017,\n",
       "   'name': 'html'},\n",
       "  {'has_synonyms': True,\n",
       "   'is_moderator_only': False,\n",
       "   'is_required': False,\n",
       "   'count': 1034723,\n",
       "   'name': 'jquery'},\n",
       "  {'has_synonyms': True,\n",
       "   'is_moderator_only': False,\n",
       "   'is_required': False,\n",
       "   'count': 807542,\n",
       "   'name': 'c++'},\n",
       "  {'has_synonyms': True,\n",
       "   'is_moderator_only': False,\n",
       "   'is_required': False,\n",
       "   'count': 804899,\n",
       "   'name': 'css'},\n",
       "  {'collectives': [{'tags': ['ios', 'android'],\n",
       "     'external_links': [{'type': 'support',\n",
       "       'link': 'https://stackoverflow.com/contact?topic=15'}],\n",
       "     'description': 'A collective for developers who want to share their knowledge and learn more about mobile development practices and platforms',\n",
       "     'link': '/collectives/mobile-dev',\n",
       "     'name': 'Mobile Development',\n",
       "     'slug': 'mobile-dev'}],\n",
       "   'has_synonyms': True,\n",
       "   'is_moderator_only': False,\n",
       "   'is_required': False,\n",
       "   'count': 687531,\n",
       "   'name': 'ios'},\n",
       "  {'has_synonyms': True,\n",
       "   'is_moderator_only': False,\n",
       "   'is_required': False,\n",
       "   'count': 671493,\n",
       "   'name': 'sql'},\n",
       "  {'has_synonyms': True,\n",
       "   'is_moderator_only': False,\n",
       "   'is_required': False,\n",
       "   'count': 662181,\n",
       "   'name': 'mysql'},\n",
       "  {'collectives': [{'tags': ['lubridate',\n",
       "      'tidyverse',\n",
       "      'r',\n",
       "      'shiny-server',\n",
       "      'dplyr',\n",
       "      'r-caret',\n",
       "      'knitr',\n",
       "      'ggplot2',\n",
       "      'shiny',\n",
       "      'dtplyr',\n",
       "      'r-raster',\n",
       "      'shinydashboard',\n",
       "      'readr',\n",
       "      'shinyapps',\n",
       "      'quantmod',\n",
       "      'tidyr',\n",
       "      'data.table',\n",
       "      'rlang',\n",
       "      'forcats',\n",
       "      'plyr',\n",
       "      'purrr',\n",
       "      'rvest',\n",
       "      'tibble',\n",
       "      'zoo',\n",
       "      'stringr',\n",
       "      'r-package',\n",
       "      'rstudio'],\n",
       "     'external_links': [{'type': 'support',\n",
       "       'link': 'https://stackoverflow.com/contact?topic=15'}],\n",
       "     'description': 'A collective where data scientists and AI researchers gather to find, share, and learn about R and other subtags like knitr and dplyr.',\n",
       "     'link': '/collectives/r-language',\n",
       "     'name': 'R Language',\n",
       "     'slug': 'r-language'}],\n",
       "   'has_synonyms': True,\n",
       "   'is_moderator_only': False,\n",
       "   'is_required': False,\n",
       "   'count': 506425,\n",
       "   'name': 'r'},\n",
       "  {'has_synonyms': True,\n",
       "   'is_moderator_only': False,\n",
       "   'is_required': False,\n",
       "   'count': 477695,\n",
       "   'name': 'reactjs'},\n",
       "  {'has_synonyms': True,\n",
       "   'is_moderator_only': False,\n",
       "   'is_required': False,\n",
       "   'count': 472517,\n",
       "   'name': 'node.js'},\n",
       "  {'has_synonyms': True,\n",
       "   'is_moderator_only': False,\n",
       "   'is_required': False,\n",
       "   'count': 416946,\n",
       "   'name': 'arrays'},\n",
       "  {'has_synonyms': False,\n",
       "   'is_moderator_only': False,\n",
       "   'is_required': False,\n",
       "   'count': 404466,\n",
       "   'name': 'c'},\n",
       "  {'has_synonyms': True,\n",
       "   'is_moderator_only': False,\n",
       "   'is_required': False,\n",
       "   'count': 374662,\n",
       "   'name': 'asp.net'},\n",
       "  {'has_synonyms': True,\n",
       "   'is_moderator_only': False,\n",
       "   'is_required': False,\n",
       "   'count': 360614,\n",
       "   'name': 'json'},\n",
       "  {'has_synonyms': True,\n",
       "   'is_moderator_only': False,\n",
       "   'is_required': False,\n",
       "   'count': 343835,\n",
       "   'name': 'python-3.x'},\n",
       "  {'has_synonyms': True,\n",
       "   'is_moderator_only': False,\n",
       "   'is_required': False,\n",
       "   'count': 338356,\n",
       "   'name': '.net'},\n",
       "  {'has_synonyms': True,\n",
       "   'is_moderator_only': False,\n",
       "   'is_required': False,\n",
       "   'count': 338132,\n",
       "   'name': 'ruby-on-rails'},\n",
       "  {'has_synonyms': True,\n",
       "   'is_moderator_only': False,\n",
       "   'is_required': False,\n",
       "   'count': 334870,\n",
       "   'name': 'sql-server'},\n",
       "  {'has_synonyms': True,\n",
       "   'is_moderator_only': False,\n",
       "   'is_required': False,\n",
       "   'count': 333736,\n",
       "   'name': 'swift'},\n",
       "  {'has_synonyms': False,\n",
       "   'is_moderator_only': False,\n",
       "   'is_required': False,\n",
       "   'count': 312111,\n",
       "   'name': 'django'},\n",
       "  {'has_synonyms': True,\n",
       "   'is_moderator_only': False,\n",
       "   'is_required': False,\n",
       "   'count': 304657,\n",
       "   'name': 'angular'},\n",
       "  {'has_synonyms': True,\n",
       "   'is_moderator_only': False,\n",
       "   'is_required': False,\n",
       "   'count': 292295,\n",
       "   'name': 'objective-c'},\n",
       "  {'has_synonyms': True,\n",
       "   'is_moderator_only': False,\n",
       "   'is_required': False,\n",
       "   'count': 287094,\n",
       "   'name': 'pandas'},\n",
       "  {'has_synonyms': True,\n",
       "   'is_moderator_only': False,\n",
       "   'is_required': False,\n",
       "   'count': 286977,\n",
       "   'name': 'excel'}],\n",
       " 'has_more': True,\n",
       " 'quota_max': 300,\n",
       " 'quota_remaining': 117}"
      ]
     },
     "execution_count": 3,
     "metadata": {},
     "output_type": "execute_result"
    }
   ],
   "source": [
    "tags = response.json()\n",
    "tags"
   ]
  },
  {
   "cell_type": "markdown",
   "id": "0401fd80-eaed-4995-b5da-89a8d0cc7865",
   "metadata": {},
   "source": [
    "### Analysis"
   ]
  },
  {
   "cell_type": "markdown",
   "id": "aaf14e3c-18e6-4c7d-8469-b12c7e1f9cc1",
   "metadata": {},
   "source": [
    "**Step 1:**\n",
    "- Create two separate lists that contains the tags and subcommunities."
   ]
  },
  {
   "cell_type": "code",
   "execution_count": 4,
   "id": "ea0cd71a-3630-4043-b799-96984a5df095",
   "metadata": {},
   "outputs": [],
   "source": [
    "tags = [\"pandas\", \"r\"]\n",
    "subcommunities = [\"stackoverflow\", \"stats.stackexchange\", \"datascience.stackexchange\"]"
   ]
  },
  {
   "cell_type": "markdown",
   "id": "d160cd95-560f-49cd-aa63-55969c63c6a2",
   "metadata": {},
   "source": [
    "**Step 2:**\n",
    "- Create an empty dictionary where the keys are the tags and the values are separate dictionaries with subcommunities and the total tag count for each subcommunity per tag.\n"
   ]
  },
  {
   "cell_type": "code",
   "execution_count": 5,
   "id": "c7c6d372-79c3-4cee-9a9b-54e8d70adda0",
   "metadata": {},
   "outputs": [
    {
     "data": {
      "text/plain": [
       "{'pandas': {'stackoverflow': 0,\n",
       "  'stats.stackexchange': 0,\n",
       "  'datascience.stackexchange': 0},\n",
       " 'r': {'stackoverflow': 0,\n",
       "  'stats.stackexchange': 0,\n",
       "  'datascience.stackexchange': 0}}"
      ]
     },
     "execution_count": 5,
     "metadata": {},
     "output_type": "execute_result"
    }
   ],
   "source": [
    "# initialize an empty dictionary to store tag counts\n",
    "tag_counts = {}\n",
    "\n",
    "# iterate over each tag\n",
    "for tag in tags:\n",
    "    # value is an empty dictionary\n",
    "    tag_counts[tag] = {}\n",
    "    # print(tag_counts)\n",
    "    # iterate over each subcommunity and set the tag count to 0\n",
    "    for subcommunity in subcommunities:\n",
    "        # within the tag_count dict, access tag key and then the subcommunity key to set value\n",
    "        tag_counts[tag][subcommunity] = 0\n",
    "        \n",
    "tag_counts"
   ]
  },
  {
   "cell_type": "markdown",
   "id": "e1798a59-348b-409a-873c-d3bf097bcd6c",
   "metadata": {},
   "source": [
    "**Step 3:**\n",
    "- Fill the dictionary with values from the response data from the API."
   ]
  },
  {
   "cell_type": "code",
   "execution_count": 6,
   "id": "104572ff-88ea-4bc4-8ce9-d57586261eae",
   "metadata": {},
   "outputs": [
    {
     "data": {
      "text/plain": [
       "[{'Tag': 'pandas', 'Subcommunity': 'stackoverflow', 'Count': 287094},\n",
       " {'Tag': 'pandas', 'Subcommunity': 'stats.stackexchange', 'Count': 171},\n",
       " {'Tag': 'pandas', 'Subcommunity': 'datascience.stackexchange', 'Count': 1340},\n",
       " {'Tag': 'r', 'Subcommunity': 'stackoverflow', 'Count': 506425},\n",
       " {'Tag': 'r', 'Subcommunity': 'stats.stackexchange', 'Count': 29813},\n",
       " {'Tag': 'r', 'Subcommunity': 'datascience.stackexchange', 'Count': 1486}]"
      ]
     },
     "execution_count": 6,
     "metadata": {},
     "output_type": "execute_result"
    }
   ],
   "source": [
    "data_df = []\n",
    "# iterate over each tag\n",
    "for tag in tags:\n",
    "    # iterate over each subcommunity\n",
    "    for subcommunity in subcommunities:\n",
    "        # API request to get info for the current tag and subcommunity\n",
    "        response = requests.get(f\"{base_url}/{tag}/info\", params={\"site\": subcommunity})\n",
    "        if response.status_code == 200:\n",
    "            data = response.json()\n",
    "            # Get the count of questions with the current tag in the current subcommunity\n",
    "            count = data[\"items\"][0][\"count\"]\n",
    "            # set value = count in tag_counts dict\n",
    "            tag_counts[tag][subcommunity] = count\n",
    "            data_df.append({\"Tag\": tag, \"Subcommunity\": subcommunity, \"Count\": count})\n",
    "        else:\n",
    "            print(f\"Error fetching data for {tag} in {subcommunity}\")\n",
    "            \n",
    "data_df"
   ]
  },
  {
   "cell_type": "markdown",
   "id": "97ab5e2a-fce4-4bd0-9d90-1ead3302c996",
   "metadata": {},
   "source": [
    "**Step 4:**\n",
    "- Create a dataframe with the information from above. "
   ]
  },
  {
   "cell_type": "code",
   "execution_count": 7,
   "id": "e98df1bf-72cd-4c99-8e74-59931ce09675",
   "metadata": {},
   "outputs": [
    {
     "data": {
      "text/html": [
       "<div>\n",
       "<style scoped>\n",
       "    .dataframe tbody tr th:only-of-type {\n",
       "        vertical-align: middle;\n",
       "    }\n",
       "\n",
       "    .dataframe tbody tr th {\n",
       "        vertical-align: top;\n",
       "    }\n",
       "\n",
       "    .dataframe thead th {\n",
       "        text-align: right;\n",
       "    }\n",
       "</style>\n",
       "<table border=\"1\" class=\"dataframe\">\n",
       "  <thead>\n",
       "    <tr style=\"text-align: right;\">\n",
       "      <th></th>\n",
       "      <th>Tag</th>\n",
       "      <th>Subcommunity</th>\n",
       "      <th>Count</th>\n",
       "    </tr>\n",
       "  </thead>\n",
       "  <tbody>\n",
       "    <tr>\n",
       "      <th>0</th>\n",
       "      <td>pandas</td>\n",
       "      <td>stackoverflow</td>\n",
       "      <td>287094</td>\n",
       "    </tr>\n",
       "    <tr>\n",
       "      <th>1</th>\n",
       "      <td>pandas</td>\n",
       "      <td>stats.stackexchange</td>\n",
       "      <td>171</td>\n",
       "    </tr>\n",
       "    <tr>\n",
       "      <th>2</th>\n",
       "      <td>pandas</td>\n",
       "      <td>datascience.stackexchange</td>\n",
       "      <td>1340</td>\n",
       "    </tr>\n",
       "    <tr>\n",
       "      <th>3</th>\n",
       "      <td>r</td>\n",
       "      <td>stackoverflow</td>\n",
       "      <td>506425</td>\n",
       "    </tr>\n",
       "    <tr>\n",
       "      <th>4</th>\n",
       "      <td>r</td>\n",
       "      <td>stats.stackexchange</td>\n",
       "      <td>29813</td>\n",
       "    </tr>\n",
       "    <tr>\n",
       "      <th>5</th>\n",
       "      <td>r</td>\n",
       "      <td>datascience.stackexchange</td>\n",
       "      <td>1486</td>\n",
       "    </tr>\n",
       "  </tbody>\n",
       "</table>\n",
       "</div>"
      ],
      "text/plain": [
       "      Tag               Subcommunity   Count\n",
       "0  pandas              stackoverflow  287094\n",
       "1  pandas        stats.stackexchange     171\n",
       "2  pandas  datascience.stackexchange    1340\n",
       "3       r              stackoverflow  506425\n",
       "4       r        stats.stackexchange   29813\n",
       "5       r  datascience.stackexchange    1486"
      ]
     },
     "execution_count": 7,
     "metadata": {},
     "output_type": "execute_result"
    }
   ],
   "source": [
    "df = pd.DataFrame(data_df)\n",
    "df"
   ]
  },
  {
   "cell_type": "markdown",
   "id": "f55446ca-f837-4f09-ae97-bb26224cde5c",
   "metadata": {},
   "source": [
    "**Step 5:**\n",
    "- Reset the index of the dataframe.\n",
    "- Rearrage dataframe using the `.pivot()` function."
   ]
  },
  {
   "cell_type": "code",
   "execution_count": 8,
   "id": "6b4b6d7e-4faa-49cc-92c1-76aab85c1430",
   "metadata": {},
   "outputs": [],
   "source": [
    "df_reset_index = df.reset_index()"
   ]
  },
  {
   "cell_type": "code",
   "execution_count": 9,
   "id": "7f41099b-df6a-425b-9dcf-17d9355659c8",
   "metadata": {},
   "outputs": [
    {
     "data": {
      "text/html": [
       "<div>\n",
       "<style scoped>\n",
       "    .dataframe tbody tr th:only-of-type {\n",
       "        vertical-align: middle;\n",
       "    }\n",
       "\n",
       "    .dataframe tbody tr th {\n",
       "        vertical-align: top;\n",
       "    }\n",
       "\n",
       "    .dataframe thead th {\n",
       "        text-align: right;\n",
       "    }\n",
       "</style>\n",
       "<table border=\"1\" class=\"dataframe\">\n",
       "  <thead>\n",
       "    <tr style=\"text-align: right;\">\n",
       "      <th>Tag</th>\n",
       "      <th>pandas</th>\n",
       "      <th>r</th>\n",
       "    </tr>\n",
       "    <tr>\n",
       "      <th>Subcommunity</th>\n",
       "      <th></th>\n",
       "      <th></th>\n",
       "    </tr>\n",
       "  </thead>\n",
       "  <tbody>\n",
       "    <tr>\n",
       "      <th>datascience.stackexchange</th>\n",
       "      <td>1340</td>\n",
       "      <td>1486</td>\n",
       "    </tr>\n",
       "    <tr>\n",
       "      <th>stackoverflow</th>\n",
       "      <td>287094</td>\n",
       "      <td>506425</td>\n",
       "    </tr>\n",
       "    <tr>\n",
       "      <th>stats.stackexchange</th>\n",
       "      <td>171</td>\n",
       "      <td>29813</td>\n",
       "    </tr>\n",
       "  </tbody>\n",
       "</table>\n",
       "</div>"
      ],
      "text/plain": [
       "Tag                        pandas       r\n",
       "Subcommunity                             \n",
       "datascience.stackexchange    1340    1486\n",
       "stackoverflow              287094  506425\n",
       "stats.stackexchange           171   29813"
      ]
     },
     "execution_count": 9,
     "metadata": {},
     "output_type": "execute_result"
    }
   ],
   "source": [
    "# pivot dataframe  \n",
    "pivot_df = df_reset_index.pivot(index=\"Subcommunity\", columns=\"Tag\", values=\"Count\")\n",
    "pivot_df"
   ]
  },
  {
   "cell_type": "markdown",
   "id": "40572927-158b-4c48-871c-4c9531323a39",
   "metadata": {},
   "source": [
    "**Step 6:**\n",
    "- Find the total tag count for Pandas and R across all subcommunities."
   ]
  },
  {
   "cell_type": "code",
   "execution_count": 10,
   "id": "7a8afef4-0ab5-4417-bba5-baa47dfbdfa0",
   "metadata": {},
   "outputs": [],
   "source": [
    "# intialize empty dict to hold {tag:total_count}\n",
    "total_tags = {}\n",
    "for tag in tags:\n",
    "    total_tags[tag] = df[df['Tag'] == tag]['Count'].sum()"
   ]
  },
  {
   "cell_type": "code",
   "execution_count": 11,
   "id": "ca976091-da65-48e9-be7e-17b19ea0642d",
   "metadata": {},
   "outputs": [
    {
     "name": "stdout",
     "output_type": "stream",
     "text": [
      "Total tag count for Pandas and R across all subcommunities:\n",
      "pandas: 288605\n",
      "r: 537724\n"
     ]
    }
   ],
   "source": [
    "print(\"Total tag count for Pandas and R across all subcommunities:\")\n",
    "for tag, count in total_tags.items():\n",
    "    print(f\"{tag}: {count}\")"
   ]
  },
  {
   "cell_type": "markdown",
   "id": "401e1b5a-d51b-4a75-bcb5-c30a3ad8d539",
   "metadata": {},
   "source": [
    "**Step 7:**\n",
    "- Compare the proportions of pandas and R tags across each subcommunity.\n",
    "- Calculate total tag count by adding all pandas and r across each subcommunity.\n",
    "- Divide the individual tag count for each community over the total tag count."
   ]
  },
  {
   "cell_type": "code",
   "execution_count": 12,
   "id": "c5b222e9-5939-4174-beb2-082ad121f442",
   "metadata": {},
   "outputs": [
    {
     "name": "stdout",
     "output_type": "stream",
     "text": [
      "Subcommunity: stackoverflow\n",
      "Pandas: 287094 , 36.18%\n",
      "R: 506425 , 63.82%\n",
      "\n",
      "Subcommunity: stats.stackexchange\n",
      "Pandas: 171 , 0.57%\n",
      "R: 29813 , 99.43%\n",
      "\n",
      "Subcommunity: datascience.stackexchange\n",
      "Pandas: 1340 , 47.42%\n",
      "R: 1486 , 52.58%\n",
      "\n"
     ]
    }
   ],
   "source": [
    "# Calculate relative number of pandas and R tags on each subcommunity\n",
    "for subcommunity in subcommunities:\n",
    "    pandas_count = pivot_df.loc[subcommunity, 'pandas']\n",
    "    r_count = pivot_df.loc[subcommunity, 'r']\n",
    "    total_count = pandas_count + r_count\n",
    "\n",
    "    print(f\"Subcommunity: {subcommunity}\")\n",
    "\n",
    "    print(f\"Pandas: {pandas_count} , {round(pandas_count / total_count * 100, 2)}%\")\n",
    "    print(f\"R: {r_count} , {round(r_count / total_count * 100, 2)}%\")\n",
    "    \n",
    "    print(\"\")"
   ]
  },
  {
   "cell_type": "markdown",
   "id": "cd4b0e4f-502b-498b-80a5-b0b2290f8d3b",
   "metadata": {},
   "source": [
    "### Visualization"
   ]
  },
  {
   "cell_type": "markdown",
   "id": "0d90c89a-882d-4f94-bb72-3063fdd95681",
   "metadata": {},
   "source": [
    "- Plot the total number of tags per tag across all subcommunities."
   ]
  },
  {
   "cell_type": "code",
   "execution_count": 13,
   "id": "de08a21a-7d26-4e17-a02b-09babd685658",
   "metadata": {},
   "outputs": [
    {
     "data": {
      "image/png": "[encoded data removed]",
      "text/plain": [
       "<Figure size 1000x600 with 1 Axes>"
      ]
     },
     "metadata": {},
     "output_type": "display_data"
    }
   ],
   "source": [
    "pivot_df.plot(kind=\"bar\", figsize=(10, 6), color=[\"lightsteelblue\", \"darkseagreen\"])\n",
    "plt.title(\"Tag count across all subcommunities\")\n",
    "plt.xlabel(\"Subcommunity\")\n",
    "plt.ylabel(\"Count\")\n",
    "plt.xticks(rotation=30)\n",
    "plt.show()"
   ]
  },
  {
   "cell_type": "code",
   "execution_count": 14,
   "id": "1d3d280e-04d3-495d-9575-7b515fc7bdca",
   "metadata": {},
   "outputs": [
    {
     "data": {
      "image/png": "[encoded data removed]",
      "text/plain": [
       "<Figure size 1000x600 with 1 Axes>"
      ]
     },
     "metadata": {},
     "output_type": "display_data"
    }
   ],
   "source": [
    "pivot_df.plot(kind=\"bar\", figsize=(10, 6), color=[\"lightsteelblue\", \"darkseagreen\"])\n",
    "plt.title(\"Tag count across all subcommunities\")\n",
    "plt.xlabel(\"Subcommunity\")\n",
    "plt.ylabel(\"Count\")\n",
    "plt.xticks(rotation=30)\n",
    "plt.ylim(0, 30000) \n",
    "plt.show()"
   ]
  },
  {
   "cell_type": "markdown",
   "id": "44604a90-4045-4d2e-b8bf-2956311fbcf0",
   "metadata": {},
   "source": [
    "### Findings\n",
    "- As seen from the bar graph, R is the most popular language in the data science/statistics community. \n",
    "- From the reported proportions, in all communities, especially in the Cross Validated (stats.stackexchange) community, the proportion of R tags compared to Pandas tag is very high (99.43% of the tags were for R in stats.stackexchange compared to 0.57% of the Pandas tags). \n",
    "\n",
    "### Conclusion\n",
    "- Based on our analysis of the Pandas and R tags across three different subcommunities (stackoverflow, stats.stackexchange, and datascience.stackexchange), R seems to be the most popular data science tool/language in the data science/statistics community. Even though further research is needed into the factors contributing to R's popularity, R is still heavily used across different industries because it's capable of performing complex and simple mathematical and statistical calculations, it is a free software, it's beginner-friendly, has a large ecosystem with tools for reporting and analyzing complex data models, and appropriately visualize the statistical data."
   ]
  }
 ],
 "metadata": {
  "kernelspec": {
   "display_name": "Python 3 (ipykernel)",
   "language": "python",
   "name": "python3"
  },
  "language_info": {
   "codemirror_mode": {
    "name": "ipython",
    "version": 3
   },
   "file_extension": ".py",
   "mimetype": "text/x-python",
   "name": "python",
   "nbconvert_exporter": "python",
   "pygments_lexer": "ipython3",
   "version": "3.11.5"
  }
 },
 "nbformat": 4,
 "nbformat_minor": 5
}
